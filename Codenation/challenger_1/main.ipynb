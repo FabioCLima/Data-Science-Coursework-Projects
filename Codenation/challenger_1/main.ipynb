{
 "cells": [
  {
   "cell_type": "markdown",
   "metadata": {},
   "source": [
    "# Desafio 1\n",
    "\n",
    "Para esse desafio, vamos trabalhar com o data set [Black Friday](https://www.kaggle.com/mehdidag/black-friday), que reúne dados sobre transações de compras em uma loja de varejo.\n",
    "\n",
    "Vamos utilizá-lo para praticar a exploração de data sets utilizando pandas. Você pode fazer toda análise neste mesmo notebook, mas as resposta devem estar nos locais indicados.\n",
    "\n",
    "> Obs.: Por favor, não modifique o nome das funções de resposta."
   ]
  },
  {
   "cell_type": "markdown",
   "metadata": {},
   "source": [
    "## _Set up_ da análise"
   ]
  },
  {
   "cell_type": "code",
   "execution_count": 47,
   "metadata": {},
   "outputs": [],
   "source": [
    "import pandas as pd\n",
    "import numpy as np\n",
    "import matplotlib.pyplot as plt\n"
   ]
  },
  {
   "cell_type": "code",
   "execution_count": 2,
   "metadata": {},
   "outputs": [],
   "source": [
    "black_friday = pd.read_csv(\"black_friday.csv\")"
   ]
  },
  {
   "cell_type": "markdown",
   "metadata": {},
   "source": [
    "## Inicie sua análise a partir daqui"
   ]
  },
  {
   "cell_type": "markdown",
   "metadata": {},
   "source": [
    "### - Plot functions"
   ]
  },
  {
   "cell_type": "code",
   "execution_count": 18,
   "metadata": {},
   "outputs": [],
   "source": [
    "def trim_axs(axs, N):\n",
    "    '''   This function takes the an axes list, the number of plots and sets  the axes list with correct length\n",
    "    \n",
    "    ARG: \n",
    "    axs(array like): array with axes \n",
    "    N(integer): number of graphs to be plotted \n",
    "    \n",
    "    RETURS:\n",
    "    axs(array like): array with correct number of axes to be plotted\n",
    "    '''\n",
    "\n",
    "    axs = axs.flatten()\n",
    "    for ax in axs[N:]:\n",
    "        ax.remove()\n",
    "    return axs[:N]\n"
   ]
  },
  {
   "cell_type": "code",
   "execution_count": 19,
   "metadata": {},
   "outputs": [],
   "source": [
    "\n",
    "def individual_bar_plots(df, col, title, ax = None):\n",
    "    '''\n",
    "    Bar plot for each column\n",
    "    \n",
    "    \n",
    "    ARG:\n",
    "    df(daraframe): dataframe to be parsed \n",
    "    col(string): name of the column\n",
    "        \n",
    "    \n",
    "    '''\n",
    "\n",
    "    obj = df.loc[col,:]  # Select item\n",
    "\n",
    "    obj.plot( kind = 'barh',\n",
    "            color = color,\n",
    "            edgecolor = 'black', \n",
    "            ax = ax,   \n",
    "            legend = None,              \n",
    "            ).set_title(f'{title} {col}')\n",
    "    \n",
    "    ax.set_xlabel('Purchase Mean [$]')"
   ]
  },
  {
   "cell_type": "markdown",
   "metadata": {},
   "source": [
    "---"
   ]
  },
  {
   "cell_type": "code",
   "execution_count": 20,
   "metadata": {},
   "outputs": [
    {
     "name": "stdout",
     "output_type": "stream",
     "text": [
      "df shape: (537577, 12)\n",
      "\n"
     ]
    },
    {
     "data": {
      "text/html": [
       "<div>\n",
       "<style scoped>\n",
       "    .dataframe tbody tr th:only-of-type {\n",
       "        vertical-align: middle;\n",
       "    }\n",
       "\n",
       "    .dataframe tbody tr th {\n",
       "        vertical-align: top;\n",
       "    }\n",
       "\n",
       "    .dataframe thead th {\n",
       "        text-align: right;\n",
       "    }\n",
       "</style>\n",
       "<table border=\"1\" class=\"dataframe\">\n",
       "  <thead>\n",
       "    <tr style=\"text-align: right;\">\n",
       "      <th></th>\n",
       "      <th>User_ID</th>\n",
       "      <th>Product_ID</th>\n",
       "      <th>Gender</th>\n",
       "      <th>Age</th>\n",
       "      <th>Occupation</th>\n",
       "      <th>City_Category</th>\n",
       "      <th>Stay_In_Current_City_Years</th>\n",
       "      <th>Marital_Status</th>\n",
       "      <th>Product_Category_1</th>\n",
       "      <th>Product_Category_2</th>\n",
       "      <th>Product_Category_3</th>\n",
       "      <th>Purchase</th>\n",
       "    </tr>\n",
       "  </thead>\n",
       "  <tbody>\n",
       "    <tr>\n",
       "      <th>0</th>\n",
       "      <td>1000001</td>\n",
       "      <td>P00069042</td>\n",
       "      <td>F</td>\n",
       "      <td>0-17</td>\n",
       "      <td>10</td>\n",
       "      <td>A</td>\n",
       "      <td>2</td>\n",
       "      <td>0</td>\n",
       "      <td>3</td>\n",
       "      <td>NaN</td>\n",
       "      <td>NaN</td>\n",
       "      <td>8370</td>\n",
       "    </tr>\n",
       "    <tr>\n",
       "      <th>1</th>\n",
       "      <td>1000001</td>\n",
       "      <td>P00248942</td>\n",
       "      <td>F</td>\n",
       "      <td>0-17</td>\n",
       "      <td>10</td>\n",
       "      <td>A</td>\n",
       "      <td>2</td>\n",
       "      <td>0</td>\n",
       "      <td>1</td>\n",
       "      <td>6.0</td>\n",
       "      <td>14.0</td>\n",
       "      <td>15200</td>\n",
       "    </tr>\n",
       "    <tr>\n",
       "      <th>2</th>\n",
       "      <td>1000001</td>\n",
       "      <td>P00087842</td>\n",
       "      <td>F</td>\n",
       "      <td>0-17</td>\n",
       "      <td>10</td>\n",
       "      <td>A</td>\n",
       "      <td>2</td>\n",
       "      <td>0</td>\n",
       "      <td>12</td>\n",
       "      <td>NaN</td>\n",
       "      <td>NaN</td>\n",
       "      <td>1422</td>\n",
       "    </tr>\n",
       "    <tr>\n",
       "      <th>3</th>\n",
       "      <td>1000001</td>\n",
       "      <td>P00085442</td>\n",
       "      <td>F</td>\n",
       "      <td>0-17</td>\n",
       "      <td>10</td>\n",
       "      <td>A</td>\n",
       "      <td>2</td>\n",
       "      <td>0</td>\n",
       "      <td>12</td>\n",
       "      <td>14.0</td>\n",
       "      <td>NaN</td>\n",
       "      <td>1057</td>\n",
       "    </tr>\n",
       "    <tr>\n",
       "      <th>4</th>\n",
       "      <td>1000002</td>\n",
       "      <td>P00285442</td>\n",
       "      <td>M</td>\n",
       "      <td>55+</td>\n",
       "      <td>16</td>\n",
       "      <td>C</td>\n",
       "      <td>4+</td>\n",
       "      <td>0</td>\n",
       "      <td>8</td>\n",
       "      <td>NaN</td>\n",
       "      <td>NaN</td>\n",
       "      <td>7969</td>\n",
       "    </tr>\n",
       "  </tbody>\n",
       "</table>\n",
       "</div>"
      ],
      "text/plain": [
       "   User_ID Product_ID Gender   Age  Occupation City_Category  \\\n",
       "0  1000001  P00069042      F  0-17          10             A   \n",
       "1  1000001  P00248942      F  0-17          10             A   \n",
       "2  1000001  P00087842      F  0-17          10             A   \n",
       "3  1000001  P00085442      F  0-17          10             A   \n",
       "4  1000002  P00285442      M   55+          16             C   \n",
       "\n",
       "  Stay_In_Current_City_Years  Marital_Status  Product_Category_1  \\\n",
       "0                          2               0                   3   \n",
       "1                          2               0                   1   \n",
       "2                          2               0                  12   \n",
       "3                          2               0                  12   \n",
       "4                         4+               0                   8   \n",
       "\n",
       "   Product_Category_2  Product_Category_3  Purchase  \n",
       "0                 NaN                 NaN      8370  \n",
       "1                 6.0                14.0     15200  \n",
       "2                 NaN                 NaN      1422  \n",
       "3                14.0                 NaN      1057  \n",
       "4                 NaN                 NaN      7969  "
      ]
     },
     "execution_count": 20,
     "metadata": {},
     "output_type": "execute_result"
    }
   ],
   "source": [
    "df = black_friday.copy()\n",
    "print('df shape:', df.shape)\n",
    "print()\n",
    "df.head(5)"
   ]
  },
  {
   "cell_type": "code",
   "execution_count": 21,
   "metadata": {},
   "outputs": [
    {
     "data": {
      "text/html": [
       "<div>\n",
       "<style scoped>\n",
       "    .dataframe tbody tr th:only-of-type {\n",
       "        vertical-align: middle;\n",
       "    }\n",
       "\n",
       "    .dataframe tbody tr th {\n",
       "        vertical-align: top;\n",
       "    }\n",
       "\n",
       "    .dataframe thead th {\n",
       "        text-align: right;\n",
       "    }\n",
       "</style>\n",
       "<table border=\"1\" class=\"dataframe\">\n",
       "  <thead>\n",
       "    <tr style=\"text-align: right;\">\n",
       "      <th></th>\n",
       "      <th>Type</th>\n",
       "      <th>MissingValues_percent</th>\n",
       "    </tr>\n",
       "  </thead>\n",
       "  <tbody>\n",
       "    <tr>\n",
       "      <th>User_ID</th>\n",
       "      <td>int64</td>\n",
       "      <td>0.000000</td>\n",
       "    </tr>\n",
       "    <tr>\n",
       "      <th>Product_ID</th>\n",
       "      <td>object</td>\n",
       "      <td>0.000000</td>\n",
       "    </tr>\n",
       "    <tr>\n",
       "      <th>Gender</th>\n",
       "      <td>object</td>\n",
       "      <td>0.000000</td>\n",
       "    </tr>\n",
       "    <tr>\n",
       "      <th>Age</th>\n",
       "      <td>object</td>\n",
       "      <td>0.000000</td>\n",
       "    </tr>\n",
       "    <tr>\n",
       "      <th>Occupation</th>\n",
       "      <td>int64</td>\n",
       "      <td>0.000000</td>\n",
       "    </tr>\n",
       "    <tr>\n",
       "      <th>City_Category</th>\n",
       "      <td>object</td>\n",
       "      <td>0.000000</td>\n",
       "    </tr>\n",
       "    <tr>\n",
       "      <th>Stay_In_Current_City_Years</th>\n",
       "      <td>object</td>\n",
       "      <td>0.000000</td>\n",
       "    </tr>\n",
       "    <tr>\n",
       "      <th>Marital_Status</th>\n",
       "      <td>int64</td>\n",
       "      <td>0.000000</td>\n",
       "    </tr>\n",
       "    <tr>\n",
       "      <th>Product_Category_1</th>\n",
       "      <td>int64</td>\n",
       "      <td>0.000000</td>\n",
       "    </tr>\n",
       "    <tr>\n",
       "      <th>Product_Category_2</th>\n",
       "      <td>float64</td>\n",
       "      <td>0.310627</td>\n",
       "    </tr>\n",
       "    <tr>\n",
       "      <th>Product_Category_3</th>\n",
       "      <td>float64</td>\n",
       "      <td>0.694410</td>\n",
       "    </tr>\n",
       "    <tr>\n",
       "      <th>Purchase</th>\n",
       "      <td>int64</td>\n",
       "      <td>0.000000</td>\n",
       "    </tr>\n",
       "  </tbody>\n",
       "</table>\n",
       "</div>"
      ],
      "text/plain": [
       "                               Type  MissingValues_percent\n",
       "User_ID                       int64               0.000000\n",
       "Product_ID                   object               0.000000\n",
       "Gender                       object               0.000000\n",
       "Age                          object               0.000000\n",
       "Occupation                    int64               0.000000\n",
       "City_Category                object               0.000000\n",
       "Stay_In_Current_City_Years   object               0.000000\n",
       "Marital_Status                int64               0.000000\n",
       "Product_Category_1            int64               0.000000\n",
       "Product_Category_2          float64               0.310627\n",
       "Product_Category_3          float64               0.694410\n",
       "Purchase                      int64               0.000000"
      ]
     },
     "execution_count": 21,
     "metadata": {},
     "output_type": "execute_result"
    }
   ],
   "source": [
    "# Number of rows\n",
    "num_rows = df.shape[0]\n",
    "\n",
    "#dictionary with basic information\n",
    "aux_dic = {'Type': df.dtypes,\n",
    "          'MissingValues_percent': df.isna().sum()/ num_rows}\n",
    "# Dataframe\n",
    "aux = pd.DataFrame(aux_dic)\n",
    "aux"
   ]
  },
  {
   "cell_type": "markdown",
   "metadata": {},
   "source": [
    "## Purchase Mean by Age Group and City"
   ]
  },
  {
   "cell_type": "code",
   "execution_count": 22,
   "metadata": {},
   "outputs": [
    {
     "data": {
      "text/html": [
       "<div>\n",
       "<style scoped>\n",
       "    .dataframe tbody tr th:only-of-type {\n",
       "        vertical-align: middle;\n",
       "    }\n",
       "\n",
       "    .dataframe tbody tr th {\n",
       "        vertical-align: top;\n",
       "    }\n",
       "\n",
       "    .dataframe thead th {\n",
       "        text-align: right;\n",
       "    }\n",
       "</style>\n",
       "<table border=\"1\" class=\"dataframe\">\n",
       "  <thead>\n",
       "    <tr style=\"text-align: right;\">\n",
       "      <th></th>\n",
       "      <th></th>\n",
       "      <th>Purchase</th>\n",
       "    </tr>\n",
       "    <tr>\n",
       "      <th>Age</th>\n",
       "      <th>City_Category</th>\n",
       "      <th></th>\n",
       "    </tr>\n",
       "  </thead>\n",
       "  <tbody>\n",
       "    <tr>\n",
       "      <th rowspan=\"3\" valign=\"top\">0-17</th>\n",
       "      <th>A</th>\n",
       "      <td>8673.295555</td>\n",
       "    </tr>\n",
       "    <tr>\n",
       "      <th>B</th>\n",
       "      <td>8985.208396</td>\n",
       "    </tr>\n",
       "    <tr>\n",
       "      <th>C</th>\n",
       "      <td>9171.916354</td>\n",
       "    </tr>\n",
       "    <tr>\n",
       "      <th rowspan=\"2\" valign=\"top\">18-25</th>\n",
       "      <th>A</th>\n",
       "      <td>8886.956078</td>\n",
       "    </tr>\n",
       "    <tr>\n",
       "      <th>B</th>\n",
       "      <td>9069.532164</td>\n",
       "    </tr>\n",
       "  </tbody>\n",
       "</table>\n",
       "</div>"
      ],
      "text/plain": [
       "                        Purchase\n",
       "Age   City_Category             \n",
       "0-17  A              8673.295555\n",
       "      B              8985.208396\n",
       "      C              9171.916354\n",
       "18-25 A              8886.956078\n",
       "      B              9069.532164"
      ]
     },
     "execution_count": 22,
     "metadata": {},
     "output_type": "execute_result"
    }
   ],
   "source": [
    "# Filter the purchase mean of each age group by City\n",
    "age_group_city = df.loc[:,['Age', 'City_Category', 'Purchase']]\n",
    "age_group_city = age_group_city.pivot_table(age_group_city, index = ['Age', 'City_Category'], aggfunc = 'mean')\n",
    "age_group_city.head()"
   ]
  },
  {
   "cell_type": "code",
   "execution_count": 23,
   "metadata": {},
   "outputs": [
    {
     "data": {
      "image/png": "[encoded data removed]",
      "text/plain": [
       "<Figure size 864x864 with 7 Axes>"
      ]
     },
     "metadata": {
      "needs_background": "light"
     },
     "output_type": "display_data"
    }
   ],
   "source": [
    "# Set color for bar plots\n",
    "color = ('lightslategray','mediumvioletred','sandybrown')\n",
    "\n",
    "# Setup for the 4x2 subplot grid\n",
    "fig, ax = plt.subplots(nrows=4, ncols=2, figsize=(12, 12), sharey=True)\n",
    "\n",
    "# Correct the lenght of the ax\n",
    "ax = trim_axs(ax, len(df.Age.unique()))\n",
    "\n",
    "# Age Groups list\n",
    "age_list = ['0-17','18-25','26-35','36-45', '46-50','51-55','55+']\n",
    "\n",
    "# ax.flatten() collapses the ax into one dimension array\n",
    "for subplot, Age in zip(ax.flatten(), age_list):\n",
    "    individual_bar_plots(age_group_city, Age, ax=subplot, title = 'Age')\n",
    "    \n",
    "plt.tight_layout()"
   ]
  },
  {
   "cell_type": "markdown",
   "metadata": {},
   "source": [
    "# Purchase of Each Product bu City "
   ]
  },
  {
   "cell_type": "markdown",
   "metadata": {},
   "source": [
    "Number of purchases of each product category by city"
   ]
  },
  {
   "cell_type": "code",
   "execution_count": 24,
   "metadata": {},
   "outputs": [
    {
     "data": {
      "text/plain": [
       "Text(0.5, 1.0, 'Purchases of Each Product Category by City')"
      ]
     },
     "execution_count": 24,
     "metadata": {},
     "output_type": "execute_result"
    },
    {
     "data": {
      "image/png": "[encoded data removed]",
      "text/plain": [
       "<Figure size 720x576 with 1 Axes>"
      ]
     },
     "metadata": {
      "needs_background": "light"
     },
     "output_type": "display_data"
    }
   ],
   "source": [
    "# Filter Dataframe\n",
    "Purchase_by_City_df = df.loc[:,[ 'City_Category','Product_Category_1', 'Product_Category_2','Product_Category_3']] \n",
    "\n",
    "# Pivot Table\n",
    "Purchase_by_City_Pivt = Purchase_by_City_df.pivot_table(Purchase_by_City_df, index = ['City_Category'], aggfunc = 'count')\n",
    "\n",
    "#Barplot\n",
    "Purchase_by_City_Pivt.plot( kind = 'barh',figsize =(10,8), color = color)\n",
    "plt.xlabel('Total of Purchases', fontsize = 13)\n",
    "plt.ylabel('City, Product_category', fontsize = 13)\n",
    "plt.title('Purchases of Each Product Category by City', fontsize = 14 )"
   ]
  },
  {
   "cell_type": "markdown",
   "metadata": {},
   "source": [
    "# Purchase Mean of Product_Category 1 by City"
   ]
  },
  {
   "cell_type": "code",
   "execution_count": 25,
   "metadata": {},
   "outputs": [
    {
     "name": "stdout",
     "output_type": "stream",
     "text": [
      "=========== City A ==========\n"
     ]
    },
    {
     "data": {
      "text/html": [
       "<div>\n",
       "<style scoped>\n",
       "    .dataframe tbody tr th:only-of-type {\n",
       "        vertical-align: middle;\n",
       "    }\n",
       "\n",
       "    .dataframe tbody tr th {\n",
       "        vertical-align: top;\n",
       "    }\n",
       "\n",
       "    .dataframe thead th {\n",
       "        text-align: right;\n",
       "    }\n",
       "</style>\n",
       "<table border=\"1\" class=\"dataframe\">\n",
       "  <thead>\n",
       "    <tr style=\"text-align: right;\">\n",
       "      <th></th>\n",
       "      <th>User_ID</th>\n",
       "      <th>Product_ID</th>\n",
       "      <th>Gender</th>\n",
       "      <th>Age</th>\n",
       "      <th>Occupation</th>\n",
       "      <th>City_Category</th>\n",
       "      <th>Stay_In_Current_City_Years</th>\n",
       "      <th>Marital_Status</th>\n",
       "      <th>Product_Category_1</th>\n",
       "      <th>Product_Category_2</th>\n",
       "      <th>Product_Category_3</th>\n",
       "      <th>Purchase</th>\n",
       "    </tr>\n",
       "  </thead>\n",
       "  <tbody>\n",
       "    <tr>\n",
       "      <th>0</th>\n",
       "      <td>1000001</td>\n",
       "      <td>P00069042</td>\n",
       "      <td>F</td>\n",
       "      <td>0-17</td>\n",
       "      <td>10</td>\n",
       "      <td>A</td>\n",
       "      <td>2</td>\n",
       "      <td>0</td>\n",
       "      <td>3</td>\n",
       "      <td>NaN</td>\n",
       "      <td>NaN</td>\n",
       "      <td>8370</td>\n",
       "    </tr>\n",
       "    <tr>\n",
       "      <th>1</th>\n",
       "      <td>1000001</td>\n",
       "      <td>P00248942</td>\n",
       "      <td>F</td>\n",
       "      <td>0-17</td>\n",
       "      <td>10</td>\n",
       "      <td>A</td>\n",
       "      <td>2</td>\n",
       "      <td>0</td>\n",
       "      <td>1</td>\n",
       "      <td>6.0</td>\n",
       "      <td>14.0</td>\n",
       "      <td>15200</td>\n",
       "    </tr>\n",
       "    <tr>\n",
       "      <th>2</th>\n",
       "      <td>1000001</td>\n",
       "      <td>P00087842</td>\n",
       "      <td>F</td>\n",
       "      <td>0-17</td>\n",
       "      <td>10</td>\n",
       "      <td>A</td>\n",
       "      <td>2</td>\n",
       "      <td>0</td>\n",
       "      <td>12</td>\n",
       "      <td>NaN</td>\n",
       "      <td>NaN</td>\n",
       "      <td>1422</td>\n",
       "    </tr>\n",
       "  </tbody>\n",
       "</table>\n",
       "</div>"
      ],
      "text/plain": [
       "   User_ID Product_ID Gender   Age  Occupation City_Category  \\\n",
       "0  1000001  P00069042      F  0-17          10             A   \n",
       "1  1000001  P00248942      F  0-17          10             A   \n",
       "2  1000001  P00087842      F  0-17          10             A   \n",
       "\n",
       "  Stay_In_Current_City_Years  Marital_Status  Product_Category_1  \\\n",
       "0                          2               0                   3   \n",
       "1                          2               0                   1   \n",
       "2                          2               0                  12   \n",
       "\n",
       "   Product_Category_2  Product_Category_3  Purchase  \n",
       "0                 NaN                 NaN      8370  \n",
       "1                 6.0                14.0     15200  \n",
       "2                 NaN                 NaN      1422  "
      ]
     },
     "execution_count": 25,
     "metadata": {},
     "output_type": "execute_result"
    }
   ],
   "source": [
    "# Access rows and columns by city\n",
    "df_city_A = df.loc[df.City_Category == 'A', :]\n",
    "df_city_B = df.loc[df.City_Category == 'B', :]\n",
    "df_city_C = df.loc[df.City_Category == 'C', :]\n",
    "print('=========== City A ==========')\n",
    "df_city_A.head(3)\n"
   ]
  },
  {
   "cell_type": "code",
   "execution_count": 26,
   "metadata": {},
   "outputs": [
    {
     "name": "stdout",
     "output_type": "stream",
     "text": [
      "=========== City B ==========\n"
     ]
    },
    {
     "data": {
      "text/html": [
       "<div>\n",
       "<style scoped>\n",
       "    .dataframe tbody tr th:only-of-type {\n",
       "        vertical-align: middle;\n",
       "    }\n",
       "\n",
       "    .dataframe tbody tr th {\n",
       "        vertical-align: top;\n",
       "    }\n",
       "\n",
       "    .dataframe thead th {\n",
       "        text-align: right;\n",
       "    }\n",
       "</style>\n",
       "<table border=\"1\" class=\"dataframe\">\n",
       "  <thead>\n",
       "    <tr style=\"text-align: right;\">\n",
       "      <th></th>\n",
       "      <th>User_ID</th>\n",
       "      <th>Product_ID</th>\n",
       "      <th>Gender</th>\n",
       "      <th>Age</th>\n",
       "      <th>Occupation</th>\n",
       "      <th>City_Category</th>\n",
       "      <th>Stay_In_Current_City_Years</th>\n",
       "      <th>Marital_Status</th>\n",
       "      <th>Product_Category_1</th>\n",
       "      <th>Product_Category_2</th>\n",
       "      <th>Product_Category_3</th>\n",
       "      <th>Purchase</th>\n",
       "    </tr>\n",
       "  </thead>\n",
       "  <tbody>\n",
       "    <tr>\n",
       "      <th>6</th>\n",
       "      <td>1000004</td>\n",
       "      <td>P00184942</td>\n",
       "      <td>M</td>\n",
       "      <td>46-50</td>\n",
       "      <td>7</td>\n",
       "      <td>B</td>\n",
       "      <td>2</td>\n",
       "      <td>1</td>\n",
       "      <td>1</td>\n",
       "      <td>8.0</td>\n",
       "      <td>17.0</td>\n",
       "      <td>19215</td>\n",
       "    </tr>\n",
       "    <tr>\n",
       "      <th>7</th>\n",
       "      <td>1000004</td>\n",
       "      <td>P00346142</td>\n",
       "      <td>M</td>\n",
       "      <td>46-50</td>\n",
       "      <td>7</td>\n",
       "      <td>B</td>\n",
       "      <td>2</td>\n",
       "      <td>1</td>\n",
       "      <td>1</td>\n",
       "      <td>15.0</td>\n",
       "      <td>NaN</td>\n",
       "      <td>15854</td>\n",
       "    </tr>\n",
       "    <tr>\n",
       "      <th>8</th>\n",
       "      <td>1000004</td>\n",
       "      <td>P0097242</td>\n",
       "      <td>M</td>\n",
       "      <td>46-50</td>\n",
       "      <td>7</td>\n",
       "      <td>B</td>\n",
       "      <td>2</td>\n",
       "      <td>1</td>\n",
       "      <td>1</td>\n",
       "      <td>16.0</td>\n",
       "      <td>NaN</td>\n",
       "      <td>15686</td>\n",
       "    </tr>\n",
       "  </tbody>\n",
       "</table>\n",
       "</div>"
      ],
      "text/plain": [
       "   User_ID Product_ID Gender    Age  Occupation City_Category  \\\n",
       "6  1000004  P00184942      M  46-50           7             B   \n",
       "7  1000004  P00346142      M  46-50           7             B   \n",
       "8  1000004   P0097242      M  46-50           7             B   \n",
       "\n",
       "  Stay_In_Current_City_Years  Marital_Status  Product_Category_1  \\\n",
       "6                          2               1                   1   \n",
       "7                          2               1                   1   \n",
       "8                          2               1                   1   \n",
       "\n",
       "   Product_Category_2  Product_Category_3  Purchase  \n",
       "6                 8.0                17.0     19215  \n",
       "7                15.0                 NaN     15854  \n",
       "8                16.0                 NaN     15686  "
      ]
     },
     "execution_count": 26,
     "metadata": {},
     "output_type": "execute_result"
    }
   ],
   "source": [
    "print('=========== City B ==========')\n",
    "df_city_B.head(3)\n"
   ]
  },
  {
   "cell_type": "code",
   "execution_count": 27,
   "metadata": {},
   "outputs": [
    {
     "name": "stdout",
     "output_type": "stream",
     "text": [
      "===========City C ===========\n"
     ]
    },
    {
     "data": {
      "text/html": [
       "<div>\n",
       "<style scoped>\n",
       "    .dataframe tbody tr th:only-of-type {\n",
       "        vertical-align: middle;\n",
       "    }\n",
       "\n",
       "    .dataframe tbody tr th {\n",
       "        vertical-align: top;\n",
       "    }\n",
       "\n",
       "    .dataframe thead th {\n",
       "        text-align: right;\n",
       "    }\n",
       "</style>\n",
       "<table border=\"1\" class=\"dataframe\">\n",
       "  <thead>\n",
       "    <tr style=\"text-align: right;\">\n",
       "      <th></th>\n",
       "      <th>User_ID</th>\n",
       "      <th>Product_ID</th>\n",
       "      <th>Gender</th>\n",
       "      <th>Age</th>\n",
       "      <th>Occupation</th>\n",
       "      <th>City_Category</th>\n",
       "      <th>Stay_In_Current_City_Years</th>\n",
       "      <th>Marital_Status</th>\n",
       "      <th>Product_Category_1</th>\n",
       "      <th>Product_Category_2</th>\n",
       "      <th>Product_Category_3</th>\n",
       "      <th>Purchase</th>\n",
       "    </tr>\n",
       "  </thead>\n",
       "  <tbody>\n",
       "    <tr>\n",
       "      <th>4</th>\n",
       "      <td>1000002</td>\n",
       "      <td>P00285442</td>\n",
       "      <td>M</td>\n",
       "      <td>55+</td>\n",
       "      <td>16</td>\n",
       "      <td>C</td>\n",
       "      <td>4+</td>\n",
       "      <td>0</td>\n",
       "      <td>8</td>\n",
       "      <td>NaN</td>\n",
       "      <td>NaN</td>\n",
       "      <td>7969</td>\n",
       "    </tr>\n",
       "    <tr>\n",
       "      <th>19</th>\n",
       "      <td>1000008</td>\n",
       "      <td>P00249542</td>\n",
       "      <td>M</td>\n",
       "      <td>26-35</td>\n",
       "      <td>12</td>\n",
       "      <td>C</td>\n",
       "      <td>4+</td>\n",
       "      <td>1</td>\n",
       "      <td>1</td>\n",
       "      <td>5.0</td>\n",
       "      <td>15.0</td>\n",
       "      <td>19614</td>\n",
       "    </tr>\n",
       "    <tr>\n",
       "      <th>20</th>\n",
       "      <td>1000008</td>\n",
       "      <td>P00220442</td>\n",
       "      <td>M</td>\n",
       "      <td>26-35</td>\n",
       "      <td>12</td>\n",
       "      <td>C</td>\n",
       "      <td>4+</td>\n",
       "      <td>1</td>\n",
       "      <td>5</td>\n",
       "      <td>14.0</td>\n",
       "      <td>NaN</td>\n",
       "      <td>8584</td>\n",
       "    </tr>\n",
       "  </tbody>\n",
       "</table>\n",
       "</div>"
      ],
      "text/plain": [
       "    User_ID Product_ID Gender    Age  Occupation City_Category  \\\n",
       "4   1000002  P00285442      M    55+          16             C   \n",
       "19  1000008  P00249542      M  26-35          12             C   \n",
       "20  1000008  P00220442      M  26-35          12             C   \n",
       "\n",
       "   Stay_In_Current_City_Years  Marital_Status  Product_Category_1  \\\n",
       "4                          4+               0                   8   \n",
       "19                         4+               1                   1   \n",
       "20                         4+               1                   5   \n",
       "\n",
       "    Product_Category_2  Product_Category_3  Purchase  \n",
       "4                  NaN                 NaN      7969  \n",
       "19                 5.0                15.0     19614  \n",
       "20                14.0                 NaN      8584  "
      ]
     },
     "execution_count": 27,
     "metadata": {},
     "output_type": "execute_result"
    }
   ],
   "source": [
    "print('===========City C ===========')\n",
    "df_city_C.head(3)"
   ]
  },
  {
   "cell_type": "code",
   "execution_count": 28,
   "metadata": {},
   "outputs": [],
   "source": [
    "# Groupby purchase means of product_category_1 in cities A,B and C\n",
    "City_A_Category_1 = df_city_A.groupby('Product_Category_1').mean()['Purchase']\n",
    "City_B_Category_1 = df_city_B.groupby('Product_Category_1').mean()['Purchase']\n",
    "City_C_Category_1 = df_city_C.groupby('Product_Category_1').mean()['Purchase']"
   ]
  },
  {
   "cell_type": "code",
   "execution_count": 29,
   "metadata": {},
   "outputs": [
    {
     "data": {
      "text/html": [
       "<div>\n",
       "<style scoped>\n",
       "    .dataframe tbody tr th:only-of-type {\n",
       "        vertical-align: middle;\n",
       "    }\n",
       "\n",
       "    .dataframe tbody tr th {\n",
       "        vertical-align: top;\n",
       "    }\n",
       "\n",
       "    .dataframe thead th {\n",
       "        text-align: right;\n",
       "    }\n",
       "</style>\n",
       "<table border=\"1\" class=\"dataframe\">\n",
       "  <thead>\n",
       "    <tr style=\"text-align: right;\">\n",
       "      <th></th>\n",
       "      <th>City_A</th>\n",
       "      <th>City_B</th>\n",
       "      <th>City_C</th>\n",
       "    </tr>\n",
       "    <tr>\n",
       "      <th>Product_Category_1</th>\n",
       "      <th></th>\n",
       "      <th></th>\n",
       "      <th></th>\n",
       "    </tr>\n",
       "  </thead>\n",
       "  <tbody>\n",
       "    <tr>\n",
       "      <th>1</th>\n",
       "      <td>13052.958064</td>\n",
       "      <td>13435.245520</td>\n",
       "      <td>14234.438760</td>\n",
       "    </tr>\n",
       "    <tr>\n",
       "      <th>2</th>\n",
       "      <td>10908.784285</td>\n",
       "      <td>11138.330154</td>\n",
       "      <td>11715.659749</td>\n",
       "    </tr>\n",
       "    <tr>\n",
       "      <th>3</th>\n",
       "      <td>10028.285981</td>\n",
       "      <td>9999.386245</td>\n",
       "      <td>10272.489805</td>\n",
       "    </tr>\n",
       "    <tr>\n",
       "      <th>4</th>\n",
       "      <td>2267.251669</td>\n",
       "      <td>2300.047175</td>\n",
       "      <td>2426.236257</td>\n",
       "    </tr>\n",
       "    <tr>\n",
       "      <th>5</th>\n",
       "      <td>6116.099708</td>\n",
       "      <td>6166.109100</td>\n",
       "      <td>6456.465122</td>\n",
       "    </tr>\n",
       "    <tr>\n",
       "      <th>6</th>\n",
       "      <td>15515.002399</td>\n",
       "      <td>15754.991317</td>\n",
       "      <td>16224.043080</td>\n",
       "    </tr>\n",
       "    <tr>\n",
       "      <th>7</th>\n",
       "      <td>16220.233884</td>\n",
       "      <td>16364.494304</td>\n",
       "      <td>16602.306378</td>\n",
       "    </tr>\n",
       "    <tr>\n",
       "      <th>8</th>\n",
       "      <td>7327.948466</td>\n",
       "      <td>7452.683661</td>\n",
       "      <td>7719.059388</td>\n",
       "    </tr>\n",
       "    <tr>\n",
       "      <th>9</th>\n",
       "      <td>14831.357798</td>\n",
       "      <td>15681.720930</td>\n",
       "      <td>15964.211382</td>\n",
       "    </tr>\n",
       "    <tr>\n",
       "      <th>10</th>\n",
       "      <td>19540.677123</td>\n",
       "      <td>19607.391519</td>\n",
       "      <td>19873.998821</td>\n",
       "    </tr>\n",
       "    <tr>\n",
       "      <th>11</th>\n",
       "      <td>4577.355992</td>\n",
       "      <td>4609.152723</td>\n",
       "      <td>4887.166244</td>\n",
       "    </tr>\n",
       "    <tr>\n",
       "      <th>12</th>\n",
       "      <td>1336.892617</td>\n",
       "      <td>1328.317354</td>\n",
       "      <td>1395.639358</td>\n",
       "    </tr>\n",
       "    <tr>\n",
       "      <th>13</th>\n",
       "      <td>704.456151</td>\n",
       "      <td>713.699012</td>\n",
       "      <td>752.481891</td>\n",
       "    </tr>\n",
       "    <tr>\n",
       "      <th>14</th>\n",
       "      <td>12660.677215</td>\n",
       "      <td>12966.072347</td>\n",
       "      <td>13990.396040</td>\n",
       "    </tr>\n",
       "    <tr>\n",
       "      <th>15</th>\n",
       "      <td>14663.663722</td>\n",
       "      <td>14568.512899</td>\n",
       "      <td>15159.757862</td>\n",
       "    </tr>\n",
       "    <tr>\n",
       "      <th>16</th>\n",
       "      <td>14249.712456</td>\n",
       "      <td>14590.056433</td>\n",
       "      <td>15501.995862</td>\n",
       "    </tr>\n",
       "    <tr>\n",
       "      <th>17</th>\n",
       "      <td>9740.900000</td>\n",
       "      <td>10186.676806</td>\n",
       "      <td>10384.228261</td>\n",
       "    </tr>\n",
       "    <tr>\n",
       "      <th>18</th>\n",
       "      <td>2947.000000</td>\n",
       "      <td>2958.279358</td>\n",
       "      <td>3021.486993</td>\n",
       "    </tr>\n",
       "  </tbody>\n",
       "</table>\n",
       "</div>"
      ],
      "text/plain": [
       "                          City_A        City_B        City_C\n",
       "Product_Category_1                                          \n",
       "1                   13052.958064  13435.245520  14234.438760\n",
       "2                   10908.784285  11138.330154  11715.659749\n",
       "3                   10028.285981   9999.386245  10272.489805\n",
       "4                    2267.251669   2300.047175   2426.236257\n",
       "5                    6116.099708   6166.109100   6456.465122\n",
       "6                   15515.002399  15754.991317  16224.043080\n",
       "7                   16220.233884  16364.494304  16602.306378\n",
       "8                    7327.948466   7452.683661   7719.059388\n",
       "9                   14831.357798  15681.720930  15964.211382\n",
       "10                  19540.677123  19607.391519  19873.998821\n",
       "11                   4577.355992   4609.152723   4887.166244\n",
       "12                   1336.892617   1328.317354   1395.639358\n",
       "13                    704.456151    713.699012    752.481891\n",
       "14                  12660.677215  12966.072347  13990.396040\n",
       "15                  14663.663722  14568.512899  15159.757862\n",
       "16                  14249.712456  14590.056433  15501.995862\n",
       "17                   9740.900000  10186.676806  10384.228261\n",
       "18                   2947.000000   2958.279358   3021.486993"
      ]
     },
     "execution_count": 29,
     "metadata": {},
     "output_type": "execute_result"
    }
   ],
   "source": [
    "# Concatenate all series\n",
    "prod1_df = pd.concat([City_A_Category_1,City_B_Category_1, City_C_Category_1], axis = 1)\n",
    "# Set columns name\n",
    "prod1_df.columns = ['City_A', 'City_B', 'City_C']\n",
    "prod1_df"
   ]
  },
  {
   "cell_type": "code",
   "execution_count": 30,
   "metadata": {},
   "outputs": [
    {
     "data": {
      "image/png": "[encoded data removed]",
      "text/plain": [
       "<Figure size 1080x864 with 18 Axes>"
      ]
     },
     "metadata": {
      "needs_background": "light"
     },
     "output_type": "display_data"
    }
   ],
   "source": [
    "#setup 4 x 5 subplot grid\n",
    "fig, ax = plt.subplots(nrows = 4 , ncols= 5, figsize = (15,12), sharey = True)\n",
    "\n",
    "#correct the lenght of the ax\n",
    "ax = trim_axs(ax, len(df.Product_Category_1.unique()))\n",
    "\n",
    "color = ['lightslategray','mediumvioletred','sandybrown']\n",
    "\n",
    "product_category_1_list = sorted(list(df.Product_Category_1.unique()))\n",
    "\n",
    "for subplot, product in zip(ax.flatten(),product_category_1_list ):\n",
    "    individual_bar_plots(prod1_df,product,ax = subplot, title = 'Product Group')\n",
    "    \n",
    "plt.tight_layout()"
   ]
  },
  {
   "cell_type": "markdown",
   "metadata": {},
   "source": [
    "## Purchase Mean of Product_Category 2 by City"
   ]
  },
  {
   "cell_type": "code",
   "execution_count": 31,
   "metadata": {},
   "outputs": [],
   "source": [
    "# Select Series with Purchase Means\n",
    "City_A_Category_2 = df_city_A.groupby('Product_Category_2').mean()['Purchase']\n",
    "City_B_Category_2 = df_city_B.groupby('Product_Category_2').mean()['Purchase']\n",
    "City_C_Category_2 = df_city_C.groupby('Product_Category_2').mean()['Purchase']"
   ]
  },
  {
   "cell_type": "code",
   "execution_count": 32,
   "metadata": {},
   "outputs": [],
   "source": [
    "# Product 2 DataFrame\n",
    "prod2_df = pd.concat([City_A_Category_2,City_B_Category_2,City_C_Category_2], axis = 1)\n",
    "# Naming Columns\n",
    "prod2_df.columns =['City_A', 'City_B', 'City_C']"
   ]
  },
  {
   "cell_type": "code",
   "execution_count": 33,
   "metadata": {},
   "outputs": [
    {
     "data": {
      "text/html": [
       "<div>\n",
       "<style scoped>\n",
       "    .dataframe tbody tr th:only-of-type {\n",
       "        vertical-align: middle;\n",
       "    }\n",
       "\n",
       "    .dataframe tbody tr th {\n",
       "        vertical-align: top;\n",
       "    }\n",
       "\n",
       "    .dataframe thead th {\n",
       "        text-align: right;\n",
       "    }\n",
       "</style>\n",
       "<table border=\"1\" class=\"dataframe\">\n",
       "  <thead>\n",
       "    <tr style=\"text-align: right;\">\n",
       "      <th></th>\n",
       "      <th>City_A</th>\n",
       "      <th>City_B</th>\n",
       "      <th>City_C</th>\n",
       "    </tr>\n",
       "    <tr>\n",
       "      <th>Product_Category_2</th>\n",
       "      <th></th>\n",
       "      <th></th>\n",
       "      <th></th>\n",
       "    </tr>\n",
       "  </thead>\n",
       "  <tbody>\n",
       "    <tr>\n",
       "      <th>2.0</th>\n",
       "      <td>13066.909869</td>\n",
       "      <td>13445.086055</td>\n",
       "      <td>14219.622383</td>\n",
       "    </tr>\n",
       "    <tr>\n",
       "      <th>3.0</th>\n",
       "      <td>11065.883788</td>\n",
       "      <td>11120.645329</td>\n",
       "      <td>11473.867617</td>\n",
       "    </tr>\n",
       "    <tr>\n",
       "      <th>4.0</th>\n",
       "      <td>10075.208914</td>\n",
       "      <td>10107.659387</td>\n",
       "      <td>10480.724405</td>\n",
       "    </tr>\n",
       "    <tr>\n",
       "      <th>5.0</th>\n",
       "      <td>8667.213905</td>\n",
       "      <td>8762.614435</td>\n",
       "      <td>9727.357871</td>\n",
       "    </tr>\n",
       "    <tr>\n",
       "      <th>6.0</th>\n",
       "      <td>11242.228294</td>\n",
       "      <td>11235.674769</td>\n",
       "      <td>12073.763277</td>\n",
       "    </tr>\n",
       "    <tr>\n",
       "      <th>7.0</th>\n",
       "      <td>6841.752809</td>\n",
       "      <td>6757.891892</td>\n",
       "      <td>7086.365169</td>\n",
       "    </tr>\n",
       "    <tr>\n",
       "      <th>8.0</th>\n",
       "      <td>9806.445616</td>\n",
       "      <td>10182.544542</td>\n",
       "      <td>10814.312008</td>\n",
       "    </tr>\n",
       "    <tr>\n",
       "      <th>9.0</th>\n",
       "      <td>7233.056435</td>\n",
       "      <td>7222.248766</td>\n",
       "      <td>7410.809496</td>\n",
       "    </tr>\n",
       "    <tr>\n",
       "      <th>10.0</th>\n",
       "      <td>15255.033943</td>\n",
       "      <td>15639.910924</td>\n",
       "      <td>15971.294686</td>\n",
       "    </tr>\n",
       "    <tr>\n",
       "      <th>11.0</th>\n",
       "      <td>8495.066962</td>\n",
       "      <td>8747.047999</td>\n",
       "      <td>9545.507328</td>\n",
       "    </tr>\n",
       "    <tr>\n",
       "      <th>12.0</th>\n",
       "      <td>6910.885035</td>\n",
       "      <td>6843.914181</td>\n",
       "      <td>7247.968198</td>\n",
       "    </tr>\n",
       "    <tr>\n",
       "      <th>13.0</th>\n",
       "      <td>9323.431010</td>\n",
       "      <td>9521.305832</td>\n",
       "      <td>10156.739443</td>\n",
       "    </tr>\n",
       "    <tr>\n",
       "      <th>14.0</th>\n",
       "      <td>6858.969283</td>\n",
       "      <td>7062.296667</td>\n",
       "      <td>7392.497267</td>\n",
       "    </tr>\n",
       "    <tr>\n",
       "      <th>15.0</th>\n",
       "      <td>9909.976888</td>\n",
       "      <td>10230.465054</td>\n",
       "      <td>10836.892345</td>\n",
       "    </tr>\n",
       "    <tr>\n",
       "      <th>16.0</th>\n",
       "      <td>9876.221606</td>\n",
       "      <td>10189.510878</td>\n",
       "      <td>10798.108871</td>\n",
       "    </tr>\n",
       "    <tr>\n",
       "      <th>17.0</th>\n",
       "      <td>9241.780651</td>\n",
       "      <td>9373.660152</td>\n",
       "      <td>9604.474172</td>\n",
       "    </tr>\n",
       "    <tr>\n",
       "      <th>18.0</th>\n",
       "      <td>9211.448424</td>\n",
       "      <td>9200.795671</td>\n",
       "      <td>9721.204105</td>\n",
       "    </tr>\n",
       "  </tbody>\n",
       "</table>\n",
       "</div>"
      ],
      "text/plain": [
       "                          City_A        City_B        City_C\n",
       "Product_Category_2                                          \n",
       "2.0                 13066.909869  13445.086055  14219.622383\n",
       "3.0                 11065.883788  11120.645329  11473.867617\n",
       "4.0                 10075.208914  10107.659387  10480.724405\n",
       "5.0                  8667.213905   8762.614435   9727.357871\n",
       "6.0                 11242.228294  11235.674769  12073.763277\n",
       "7.0                  6841.752809   6757.891892   7086.365169\n",
       "8.0                  9806.445616  10182.544542  10814.312008\n",
       "9.0                  7233.056435   7222.248766   7410.809496\n",
       "10.0                15255.033943  15639.910924  15971.294686\n",
       "11.0                 8495.066962   8747.047999   9545.507328\n",
       "12.0                 6910.885035   6843.914181   7247.968198\n",
       "13.0                 9323.431010   9521.305832  10156.739443\n",
       "14.0                 6858.969283   7062.296667   7392.497267\n",
       "15.0                 9909.976888  10230.465054  10836.892345\n",
       "16.0                 9876.221606  10189.510878  10798.108871\n",
       "17.0                 9241.780651   9373.660152   9604.474172\n",
       "18.0                 9211.448424   9200.795671   9721.204105"
      ]
     },
     "execution_count": 33,
     "metadata": {},
     "output_type": "execute_result"
    }
   ],
   "source": [
    "prod2_df"
   ]
  },
  {
   "cell_type": "code",
   "execution_count": 34,
   "metadata": {},
   "outputs": [
    {
     "data": {
      "image/png": "[encoded data removed]",
      "text/plain": [
       "<Figure size 1080x864 with 17 Axes>"
      ]
     },
     "metadata": {
      "needs_background": "light"
     },
     "output_type": "display_data"
    }
   ],
   "source": [
    "# Setup for the 6 X 3 subplot grid\n",
    "fig, ax = plt.subplots(nrows=6 , ncols=3, sharey = True, figsize = (15,12))\n",
    "\n",
    "#Correct the lenght of the ax\n",
    "ax = trim_axs(ax, len(df.Product_Category_2.unique()[1:]) )\n",
    "\n",
    "product_category_2_list = sorted(list(df.Product_Category_2.unique()[1:]))\n",
    "\n",
    "for subplot, product in zip(ax.flatten(), product_category_2_list):\n",
    "    individual_bar_plots(prod2_df,product,ax = subplot, title = 'Product Group')\n",
    "\n",
    "plt.tight_layout()"
   ]
  },
  {
   "cell_type": "markdown",
   "metadata": {},
   "source": [
    "## Purchase Mean of Product_Category 3 by City"
   ]
  },
  {
   "cell_type": "code",
   "execution_count": 35,
   "metadata": {},
   "outputs": [],
   "source": [
    "# Select Series with Purchase Means\n",
    "City_A_Category_3 = df_city_A.groupby('Product_Category_3').mean()['Purchase']\n",
    "City_B_Category_3 = df_city_B.groupby('Product_Category_3').mean()['Purchase']\n",
    "City_C_Category_3 = df_city_C.groupby('Product_Category_3').mean()['Purchase']"
   ]
  },
  {
   "cell_type": "code",
   "execution_count": 36,
   "metadata": {},
   "outputs": [
    {
     "data": {
      "text/html": [
       "<div>\n",
       "<style scoped>\n",
       "    .dataframe tbody tr th:only-of-type {\n",
       "        vertical-align: middle;\n",
       "    }\n",
       "\n",
       "    .dataframe tbody tr th {\n",
       "        vertical-align: top;\n",
       "    }\n",
       "\n",
       "    .dataframe thead th {\n",
       "        text-align: right;\n",
       "    }\n",
       "</style>\n",
       "<table border=\"1\" class=\"dataframe\">\n",
       "  <thead>\n",
       "    <tr style=\"text-align: right;\">\n",
       "      <th></th>\n",
       "      <th>City_A</th>\n",
       "      <th>City_B</th>\n",
       "      <th>City_C</th>\n",
       "    </tr>\n",
       "    <tr>\n",
       "      <th>Product_Category_3</th>\n",
       "      <th></th>\n",
       "      <th></th>\n",
       "      <th></th>\n",
       "    </tr>\n",
       "  </thead>\n",
       "  <tbody>\n",
       "    <tr>\n",
       "      <th>3.0</th>\n",
       "      <td>13969.673333</td>\n",
       "      <td>14008.585551</td>\n",
       "      <td>13874.818182</td>\n",
       "    </tr>\n",
       "    <tr>\n",
       "      <th>4.0</th>\n",
       "      <td>9434.113978</td>\n",
       "      <td>9574.196429</td>\n",
       "      <td>10319.834179</td>\n",
       "    </tr>\n",
       "    <tr>\n",
       "      <th>5.0</th>\n",
       "      <td>11887.027325</td>\n",
       "      <td>12057.797247</td>\n",
       "      <td>12379.605992</td>\n",
       "    </tr>\n",
       "    <tr>\n",
       "      <th>6.0</th>\n",
       "      <td>12569.577262</td>\n",
       "      <td>13038.285996</td>\n",
       "      <td>13891.935107</td>\n",
       "    </tr>\n",
       "    <tr>\n",
       "      <th>8.0</th>\n",
       "      <td>12663.153364</td>\n",
       "      <td>12883.700040</td>\n",
       "      <td>13458.201950</td>\n",
       "    </tr>\n",
       "    <tr>\n",
       "      <th>9.0</th>\n",
       "      <td>9947.309515</td>\n",
       "      <td>10314.337148</td>\n",
       "      <td>10882.095887</td>\n",
       "    </tr>\n",
       "    <tr>\n",
       "      <th>10.0</th>\n",
       "      <td>13847.980861</td>\n",
       "      <td>13331.246696</td>\n",
       "      <td>13514.181970</td>\n",
       "    </tr>\n",
       "    <tr>\n",
       "      <th>11.0</th>\n",
       "      <td>11472.178971</td>\n",
       "      <td>12059.382470</td>\n",
       "      <td>12682.212914</td>\n",
       "    </tr>\n",
       "    <tr>\n",
       "      <th>12.0</th>\n",
       "      <td>8574.229700</td>\n",
       "      <td>8637.861063</td>\n",
       "      <td>8954.959022</td>\n",
       "    </tr>\n",
       "    <tr>\n",
       "      <th>13.0</th>\n",
       "      <td>12682.907746</td>\n",
       "      <td>12947.841697</td>\n",
       "      <td>13874.263395</td>\n",
       "    </tr>\n",
       "    <tr>\n",
       "      <th>14.0</th>\n",
       "      <td>9574.255578</td>\n",
       "      <td>9791.096098</td>\n",
       "      <td>10841.424635</td>\n",
       "    </tr>\n",
       "    <tr>\n",
       "      <th>15.0</th>\n",
       "      <td>11972.470553</td>\n",
       "      <td>12137.322623</td>\n",
       "      <td>12839.708597</td>\n",
       "    </tr>\n",
       "    <tr>\n",
       "      <th>16.0</th>\n",
       "      <td>11434.917967</td>\n",
       "      <td>11857.705236</td>\n",
       "      <td>12566.282656</td>\n",
       "    </tr>\n",
       "    <tr>\n",
       "      <th>17.0</th>\n",
       "      <td>11163.020197</td>\n",
       "      <td>11592.776119</td>\n",
       "      <td>12367.284652</td>\n",
       "    </tr>\n",
       "    <tr>\n",
       "      <th>18.0</th>\n",
       "      <td>10313.138175</td>\n",
       "      <td>10804.760167</td>\n",
       "      <td>11709.120712</td>\n",
       "    </tr>\n",
       "  </tbody>\n",
       "</table>\n",
       "</div>"
      ],
      "text/plain": [
       "                          City_A        City_B        City_C\n",
       "Product_Category_3                                          \n",
       "3.0                 13969.673333  14008.585551  13874.818182\n",
       "4.0                  9434.113978   9574.196429  10319.834179\n",
       "5.0                 11887.027325  12057.797247  12379.605992\n",
       "6.0                 12569.577262  13038.285996  13891.935107\n",
       "8.0                 12663.153364  12883.700040  13458.201950\n",
       "9.0                  9947.309515  10314.337148  10882.095887\n",
       "10.0                13847.980861  13331.246696  13514.181970\n",
       "11.0                11472.178971  12059.382470  12682.212914\n",
       "12.0                 8574.229700   8637.861063   8954.959022\n",
       "13.0                12682.907746  12947.841697  13874.263395\n",
       "14.0                 9574.255578   9791.096098  10841.424635\n",
       "15.0                11972.470553  12137.322623  12839.708597\n",
       "16.0                11434.917967  11857.705236  12566.282656\n",
       "17.0                11163.020197  11592.776119  12367.284652\n",
       "18.0                10313.138175  10804.760167  11709.120712"
      ]
     },
     "execution_count": 36,
     "metadata": {},
     "output_type": "execute_result"
    }
   ],
   "source": [
    "# Product 3 DataFrame\n",
    "prod3_df = pd.concat([City_A_Category_3,City_B_Category_3,City_C_Category_3] , axis =1 )\n",
    "# Naming Columns\n",
    "prod3_df.columns = ['City_A', 'City_B', 'City_C']\n",
    "prod3_df"
   ]
  },
  {
   "cell_type": "code",
   "execution_count": 37,
   "metadata": {},
   "outputs": [
    {
     "data": {
      "image/png": "[encoded data removed]",
      "text/plain": [
       "<Figure size 1080x864 with 15 Axes>"
      ]
     },
     "metadata": {
      "needs_background": "light"
     },
     "output_type": "display_data"
    }
   ],
   "source": [
    "#Setup for 5 x 3 subplot grid\n",
    "fig, ax  = plt.subplots( nrows= 5, ncols=3, sharey = True, figsize = (15,12))\n",
    "\n",
    "product_category_3_list = sorted(list(df.Product_Category_3.unique()[1:]))\n",
    "\n",
    "for subplot, product in zip(ax.flatten(), product_category_3_list):\n",
    "    individual_bar_plots(prod3_df,product, ax = subplot, title = 'Product')\n",
    "\n",
    "plt.tight_layout()"
   ]
  },
  {
   "cell_type": "markdown",
   "metadata": {},
   "source": [
    "## Gender Analysis:"
   ]
  },
  {
   "cell_type": "code",
   "execution_count": 38,
   "metadata": {},
   "outputs": [
    {
     "data": {
      "image/png": "[encoded data removed]",
      "text/plain": [
       "<Figure size 432x288 with 2 Axes>"
      ]
     },
     "metadata": {
      "needs_background": "light"
     },
     "output_type": "display_data"
    }
   ],
   "source": [
    "# Plotting Purchase by Gender\n",
    "plt.subplot(221)\n",
    "\n",
    "# Number of Males and Females\n",
    "df.Gender.value_counts().plot(kind= 'bar', title = 'Purchases by Gender', color = color)\n",
    "\n",
    "plt.xlabel('Gender', fontsize = 13)\n",
    "plt.ylabel('Number of Purchases', fontsize = 13)\n",
    "import matplotlib.patches as mpatches\n",
    "gray_patch = mpatches.Patch(color ='lightslategray', label = 'Male')\n",
    "violet_patch = mpatches.Patch(color = 'mediumvioletred', label = 'Female')\n",
    "plt.legend(handles = [gray_patch,violet_patch], loc = 'best')\n",
    "\n",
    "\n",
    "#Plotting Purchase Mean by Gender\n",
    "plt.subplot(222)\n",
    "\n",
    "df.groupby('Gender').mean()['Purchase'] .sort_values(ascending = False).plot(kind = 'bar',\n",
    "                                                                         color = color,\n",
    "                                                                         title = 'Purchase Mean by Gender')\n",
    "                                                                    \n",
    "plt.ylabel('Purchase Mean [$]', fontsize = 13)\n",
    "plt.xlabel('Gender', fontsize = 13)\n",
    "plt.legend(handles = [gray_patch,violet_patch], loc = 'best')\n",
    "plt.tight_layout()\n",
    "\n",
    "\n",
    "\n",
    "\n",
    "plt.rcParams['figure.figsize'] =(12,8)"
   ]
  },
  {
   "cell_type": "markdown",
   "metadata": {},
   "source": [
    "## Purchases Mean by Gender and Age Group"
   ]
  },
  {
   "cell_type": "code",
   "execution_count": 39,
   "metadata": {},
   "outputs": [
    {
     "data": {
      "text/plain": [
       "Age    Gender\n",
       "0-17   F         8444.703210\n",
       "       M         9312.322227\n",
       "18-25  F         8405.430852\n",
       "       M         9506.501081\n",
       "26-35  F         8791.798654\n",
       "       M         9470.621052\n",
       "36-45  F         9046.573808\n",
       "       M         9517.126321\n",
       "46-50  F         8929.448740\n",
       "       M         9429.151563\n",
       "51-55  F         9131.451837\n",
       "       M         9789.020476\n",
       "55+    F         9119.577196\n",
       "       M         9557.058094\n",
       "Name: Purchase, dtype: float64"
      ]
     },
     "execution_count": 39,
     "metadata": {},
     "output_type": "execute_result"
    }
   ],
   "source": [
    "# Purchase mean by age and gender\n",
    "gender_age_pvt = df.pivot_table(df , index = ['Age', 'Gender'], aggfunc = 'mean')['Purchase']\n",
    "gender_age_pvt"
   ]
  },
  {
   "cell_type": "code",
   "execution_count": 40,
   "metadata": {},
   "outputs": [
    {
     "data": {
      "image/png": "[encoded data removed]",
      "text/plain": [
       "<Figure size 1080x864 with 7 Axes>"
      ]
     },
     "metadata": {
      "needs_background": "light"
     },
     "output_type": "display_data"
    }
   ],
   "source": [
    "\n",
    "fig, ax = plt.subplots(nrows = 3 , ncols= 3, figsize = (15,12), sharey = False)\n",
    "\n",
    "#correct the lenght of the ax\n",
    "ax = trim_axs(ax, len(df.Age.unique()))\n",
    "\n",
    "# set colors\n",
    "color = ['mediumvioletred','lightslategray']\n",
    "\n",
    "for subplot, Age in zip(ax.flatten(),age_list ):\n",
    "    individual_bar_plots(gender_age_pvt,Age,ax = subplot, title = 'Age')\n",
    "    \n",
    "plt.tight_layout()"
   ]
  },
  {
   "cell_type": "markdown",
   "metadata": {},
   "source": [
    "## Purchase Mean by Gender and City"
   ]
  },
  {
   "cell_type": "code",
   "execution_count": 41,
   "metadata": {},
   "outputs": [],
   "source": [
    "\n",
    "# Select Dataframe\n",
    "purchase_mean_by_gender_city = df.loc[:,['Gender', 'City_Category','Purchase']]\n",
    "# Pivot Table with Purchase Mean\n",
    "pvt_purchase_mean_by_gender_city = purchase_mean_by_gender_city.pivot_table(purchase_mean_by_gender_city, \n",
    "                                                                           index = ['Gender','City_Category'],\n",
    "                                                                           aggfunc = 'mean')"
   ]
  },
  {
   "cell_type": "code",
   "execution_count": 42,
   "metadata": {},
   "outputs": [
    {
     "data": {
      "image/png": "[encoded data removed]",
      "text/plain": [
       "<Figure size 576x432 with 2 Axes>"
      ]
     },
     "metadata": {
      "needs_background": "light"
     },
     "output_type": "display_data"
    }
   ],
   "source": [
    "ig, ax = plt.subplots(nrows = 1 , ncols= 2, figsize = (8,6), sharey = False)\n",
    "\n",
    "# Bar Colors\n",
    "color = ('lightslategray','mediumvioletred','sandybrown')\n",
    "\n",
    "gender_list = ['F','M']\n",
    "\n",
    "for subplot, gender in zip(ax.flatten(),gender_list ):\n",
    "    individual_bar_plots(pvt_purchase_mean_by_gender_city, gender, ax = subplot, title = 'Gender:')\n",
    "    \n",
    "plt.tight_layout()"
   ]
  },
  {
   "cell_type": "markdown",
   "metadata": {},
   "source": [
    "## Occupation by City"
   ]
  },
  {
   "cell_type": "code",
   "execution_count": 43,
   "metadata": {},
   "outputs": [
    {
     "data": {
      "text/html": [
       "<div>\n",
       "<style scoped>\n",
       "    .dataframe tbody tr th:only-of-type {\n",
       "        vertical-align: middle;\n",
       "    }\n",
       "\n",
       "    .dataframe tbody tr th {\n",
       "        vertical-align: top;\n",
       "    }\n",
       "\n",
       "    .dataframe thead th {\n",
       "        text-align: right;\n",
       "    }\n",
       "</style>\n",
       "<table border=\"1\" class=\"dataframe\">\n",
       "  <thead>\n",
       "    <tr style=\"text-align: right;\">\n",
       "      <th></th>\n",
       "      <th>User_ID</th>\n",
       "      <th>Product_ID</th>\n",
       "      <th>Gender</th>\n",
       "      <th>Age</th>\n",
       "      <th>Occup</th>\n",
       "      <th>City_Cat</th>\n",
       "      <th>Stay_In_Current_City_Years</th>\n",
       "      <th>Marital_Status</th>\n",
       "      <th>Product_Category_1</th>\n",
       "      <th>Product_Category_2</th>\n",
       "      <th>Product_Category_3</th>\n",
       "      <th>Purchase</th>\n",
       "    </tr>\n",
       "  </thead>\n",
       "  <tbody>\n",
       "    <tr>\n",
       "      <th>0</th>\n",
       "      <td>1000001</td>\n",
       "      <td>P00069042</td>\n",
       "      <td>F</td>\n",
       "      <td>0-17</td>\n",
       "      <td>10</td>\n",
       "      <td>A</td>\n",
       "      <td>2</td>\n",
       "      <td>0</td>\n",
       "      <td>3</td>\n",
       "      <td>NaN</td>\n",
       "      <td>NaN</td>\n",
       "      <td>8370</td>\n",
       "    </tr>\n",
       "    <tr>\n",
       "      <th>1</th>\n",
       "      <td>1000001</td>\n",
       "      <td>P00248942</td>\n",
       "      <td>F</td>\n",
       "      <td>0-17</td>\n",
       "      <td>10</td>\n",
       "      <td>A</td>\n",
       "      <td>2</td>\n",
       "      <td>0</td>\n",
       "      <td>1</td>\n",
       "      <td>6.0</td>\n",
       "      <td>14.0</td>\n",
       "      <td>15200</td>\n",
       "    </tr>\n",
       "    <tr>\n",
       "      <th>2</th>\n",
       "      <td>1000001</td>\n",
       "      <td>P00087842</td>\n",
       "      <td>F</td>\n",
       "      <td>0-17</td>\n",
       "      <td>10</td>\n",
       "      <td>A</td>\n",
       "      <td>2</td>\n",
       "      <td>0</td>\n",
       "      <td>12</td>\n",
       "      <td>NaN</td>\n",
       "      <td>NaN</td>\n",
       "      <td>1422</td>\n",
       "    </tr>\n",
       "  </tbody>\n",
       "</table>\n",
       "</div>"
      ],
      "text/plain": [
       "   User_ID Product_ID Gender   Age  Occup City_Cat Stay_In_Current_City_Years  \\\n",
       "0  1000001  P00069042      F  0-17     10        A                          2   \n",
       "1  1000001  P00248942      F  0-17     10        A                          2   \n",
       "2  1000001  P00087842      F  0-17     10        A                          2   \n",
       "\n",
       "   Marital_Status  Product_Category_1  Product_Category_2  Product_Category_3  \\\n",
       "0               0                   3                 NaN                 NaN   \n",
       "1               0                   1                 6.0                14.0   \n",
       "2               0                  12                 NaN                 NaN   \n",
       "\n",
       "   Purchase  \n",
       "0      8370  \n",
       "1     15200  \n",
       "2      1422  "
      ]
     },
     "execution_count": 43,
     "metadata": {},
     "output_type": "execute_result"
    }
   ],
   "source": [
    "# Rename columns to fit the plot \n",
    "df.rename(columns= {\"City_Category\" : \"City_Cat\", \"Occupation\": \"Occup\"}, inplace= True)\n",
    "df.head(3)"
   ]
  },
  {
   "cell_type": "code",
   "execution_count": 44,
   "metadata": {},
   "outputs": [],
   "source": [
    "#List with Occupations\n",
    "occ_list = sorted(df.Occup.unique())\n",
    "\n",
    "occupation_purchase_city = df.pivot_table(df, index = ['Occup','City_Cat'])['Purchase']"
   ]
  },
  {
   "cell_type": "code",
   "execution_count": 45,
   "metadata": {},
   "outputs": [
    {
     "data": {
      "image/png": "[encoded data removed]",
      "text/plain": [
       "<Figure size 1080x1080 with 21 Axes>"
      ]
     },
     "metadata": {
      "needs_background": "light"
     },
     "output_type": "display_data"
    }
   ],
   "source": [
    "#Set color\n",
    "color = ['lightslategray','mediumvioletred','sandybrown']\n",
    "#Plot\n",
    "fig, ax = plt.subplots(nrows=7 , ncols=3, figsize = (15,15), sharey = True)\n",
    "\n",
    "for subplot, occupation in zip(ax.flatten(), occ_list):\n",
    "    individual_bar_plots(occupation_purchase_city,occupation, ax = subplot , title = 'Occupation')\n",
    "       \n",
    "plt.tight_layout()"
   ]
  },
  {
   "cell_type": "markdown",
   "metadata": {},
   "source": [
    "## Questão 1\n",
    "\n",
    "Quantas observações e quantas colunas há no dataset? Responda no formato de uma tuple `(n_observacoes, n_colunas)`."
   ]
  },
  {
   "cell_type": "code",
   "execution_count": 46,
   "metadata": {},
   "outputs": [],
   "source": [
    "def q1():\n",
    "    '''Calculates the total number of rows and columns of a given dataframe\n",
    "    ARG: --\n",
    "    \n",
    "    RETURNS: \n",
    "    shape(tuple): A tuple with that contains the number of observation and number of columns respectively \n",
    "     '''\n",
    "    # number of observations\n",
    "    n_observacoes = df.shape[0]\n",
    "    # Number of columns\n",
    "    n_colunas = df.shape[1]\n",
    "    \n",
    "    shape = (n_observacoes,n_colunas)\n",
    "    \n",
    "    return shape\n",
    "    "
   ]
  },
  {
   "cell_type": "markdown",
   "metadata": {},
   "source": [
    "## Questão 2\n",
    "\n",
    "\"Há quantas mulheres com idade entre 26 e 35 anos no dataset? Responda como um único escalar.\""
   ]
  },
  {
   "cell_type": "markdown",
   "metadata": {},
   "source": [
    "# - How I would do.\n",
    "\n",
    "def q2():\n",
    "    '''Calculates the number of female aged between 26-35\n",
    "    ARG: --\n",
    "    \n",
    "    RETURNS: \n",
    "    F_26_35(integer): The number of female aged between 26-35 \n",
    "     '''\n",
    "    \n",
    "    # Filter unique users\n",
    "    unique_users_df = df.groupby([\"User_ID\", \"Age\"], sort=False, as_index=False).first()\n",
    "    \n",
    "    # Filter female aged between 26-35\n",
    "    aged_26_35 = unique_users_df.loc[ (unique_users_df['Age'] == '26-35') & (unique_users_df['Gender'] == 'F' ), : ]\n",
    "    \n",
    "    # Calculate the number of female aged between 26-35\n",
    "    F_26_35 = aged_26_35.shape[0]\n",
    "    \n",
    "    return F_26_35 "
   ]
  },
  {
   "cell_type": "code",
   "execution_count": 1,
   "metadata": {},
   "outputs": [],
   "source": [
    "def q2():\n",
    "    '''Calculates the number of female aged between 26-35\n",
    "    ARG: --\n",
    "    \n",
    "    RETURNS: \n",
    "    F_26_35(integer): The number of female aged between 26-35 \n",
    "     '''\n",
    "    \n",
    "    \n",
    "    # Filter female aged between 26-35\n",
    "    female_aged_26_35 = df.loc[ (df['Age'] == '26-35') & (df['Gender'] == 'F' ), : ]\n",
    "    \n",
    "    # Calculate the number of female aged between 26-35\n",
    "    F_26_35 = female_aged_26_35.shape[0]\n",
    "    \n",
    "    return F_26_35"
   ]
  },
  {
   "cell_type": "markdown",
   "metadata": {},
   "source": [
    "## Questão 3\n",
    "\n",
    "Quantos usuários únicos há no dataset? Responda como um único escalar."
   ]
  },
  {
   "cell_type": "code",
   "execution_count": 17,
   "metadata": {},
   "outputs": [],
   "source": [
    "def q3():\n",
    "    \n",
    "    '''Calculates the number unique users\n",
    "    ARG: --\n",
    "    \n",
    "    RETURNS: \n",
    "    unique_users: The number of unique users \n",
    "    '''\n",
    "    # Filter unique users\n",
    "    unique_users_df = df.groupby([\"User_ID\"], sort=False, as_index=False).first()\n",
    "    \n",
    "    # Number of unique users\n",
    "    unique_users = unique_users_df.shape[0]\n",
    "    \n",
    "    return unique_users\n"
   ]
  },
  {
   "cell_type": "markdown",
   "metadata": {},
   "source": [
    "## Questão 4\n",
    "\n",
    "Quantos tipos de dados diferentes existem no dataset? Responda como um único escalar."
   ]
  },
  {
   "cell_type": "code",
   "execution_count": 34,
   "metadata": {},
   "outputs": [],
   "source": [
    "def q4():\n",
    "    ''' Calculates the number of different variable types in the dataset\n",
    "    ARG: --\n",
    "    \n",
    "    RETURNS: \n",
    "    unique_types: The number of unique variable types \n",
    "    '''    \n",
    "    # Unique variables\n",
    "    unique_types = df.dtypes.unique().shape[0]\n",
    "    \n",
    "    return unique_types"
   ]
  },
  {
   "cell_type": "markdown",
   "metadata": {},
   "source": [
    "## Questão 5\n",
    "\n",
    "Qual porcentagem dos registros possui ao menos um valor null (`None`, `ǸaN` etc)? Responda como um único escalar entre 0 e 1."
   ]
  },
  {
   "cell_type": "code",
   "execution_count": 36,
   "metadata": {},
   "outputs": [],
   "source": [
    "def q5():\n",
    "    '''Calculates the percentage of rows that contains at least 1 nan variable\n",
    "    ARG: --\n",
    "    \n",
    "    RETURNS: \n",
    "    missing_percent(float): The percenta of variables with missing values\n",
    "    ''' \n",
    "    # Total rows \n",
    "    total_rows = df.shape[0]\n",
    "    # Number of rows with missing values\n",
    "    missing_var_count = (df.isna().sum(axis = 1) != 0).sum() \n",
    "    \n",
    "    # missing values percent\n",
    "    missing_percent = missing_var_count / total_rows\n",
    "    \n",
    "    return float(missing_percent)"
   ]
  },
  {
   "cell_type": "markdown",
   "metadata": {},
   "source": [
    "## Questão 6\n",
    "\n",
    "Quantos valores null existem na variável (coluna) com o maior número de null? Responda como um único escalar."
   ]
  },
  {
   "cell_type": "code",
   "execution_count": 10,
   "metadata": {},
   "outputs": [],
   "source": [
    "def q6():\n",
    "    ''' Returns the number of nan of the variable with the largest null number\n",
    "    \n",
    "    ARG: -- \n",
    "    \n",
    "    RETURNS: \n",
    "    max_missing_count(integer): Number of missing values\n",
    "    ''' \n",
    "    max_missing_count = df.isna().sum().max()\n",
    "    \n",
    "    return max_missing_count"
   ]
  },
  {
   "cell_type": "markdown",
   "metadata": {},
   "source": [
    "## Questão 7\n",
    "\n",
    "Qual o valor mais frequente (sem contar nulls) em `Product_Category_3`? Responda como um único escalar."
   ]
  },
  {
   "cell_type": "code",
   "execution_count": 11,
   "metadata": {},
   "outputs": [],
   "source": [
    "def q7():    \n",
    "    ''' Calculates the most frequent value of Product_Category_3\n",
    "    \n",
    "    ARG: -- \n",
    "    \n",
    "    RETURNS: \n",
    "    most_freq_cat3(float): Most frequent value of Product_category_3\n",
    "    '''\n",
    "    most_freq_cat3 =  df.Product_Category_3.value_counts().sort_values(ascending = False).keys()[0]\n",
    "    \n",
    "    return most_freq_cat3\n",
    "   "
   ]
  },
  {
   "cell_type": "markdown",
   "metadata": {},
   "source": [
    "## Questão 8\n",
    "\n",
    "Qual a nova média da variável (coluna) `Purchase` após sua normalização? Responda como um único escalar."
   ]
  },
  {
   "cell_type": "code",
   "execution_count": 12,
   "metadata": {},
   "outputs": [],
   "source": [
    "def q8():\n",
    "    '''Normalizes Purchase column and returns the purchase mean\n",
    "    \n",
    "    ARG: -- \n",
    "    \n",
    "    RETURNS: \n",
    "    purchase_mean(float): The mean value of the purchase column after normalizing it.\n",
    "    '''\n",
    "    \n",
    "    # Min purchase\n",
    "    min_purchase = df['Purchase'].min()\n",
    "    #Max purchase\n",
    "    max_purchase = df['Purchase'].max()\n",
    "    \n",
    "    #Normalize Purchase\n",
    "    df['Normalized_purchase'] = (df['Purchase'] - min_purchase) / (max_purchase - min_purchase)\n",
    "    \n",
    "    # Purchase mean\n",
    "    purchase_mean = df['Normalized_purchase'].mean()\n",
    "    \n",
    "    return purchase_mean"
   ]
  },
  {
   "cell_type": "markdown",
   "metadata": {},
   "source": [
    "## Questão 9\n",
    "\n",
    "Quantas ocorrências entre -1 e 1 inclusive existem da variáel `Purchase` após sua padronização? Responda como um único escalar."
   ]
  },
  {
   "cell_type": "code",
   "execution_count": 13,
   "metadata": {},
   "outputs": [],
   "source": [
    "def q9():\n",
    "    ''' Standardizes purchase column and return number of observations within the interval [-1,1]   \n",
    "    ARG: -- \n",
    "    \n",
    "    RETURNS: \n",
    "    within_minus1_and1(integer): Number of values within the interval [-1,1].\n",
    "    '''\n",
    "\n",
    "    #Calculate purchase mean and standard deviation\n",
    "    purchase_mean = df['Purchase'].mean()\n",
    "    purchase_std =  df['Purchase'].std()\n",
    "    \n",
    "    # dataframe with standardized purchase\n",
    "    df['Standardized_purchase'] = (df['Purchase'] - purchase_mean) / (purchase_std)\n",
    "    \n",
    "    # Filter observations within [-1,1]\n",
    "    within_minus1_and1  = df.loc[ (df['Standardized_purchase'] >= -1) & (df['Standardized_purchase'] <= 1), : ].shape[0]\n",
    "    \n",
    "    return within_minus1_and1"
   ]
  },
  {
   "cell_type": "markdown",
   "metadata": {},
   "source": [
    "## Questão 10\n",
    "\n",
    "Podemos afirmar que se uma observação é null em `Product_Category_2` ela também o é em `Product_Category_3`? Responda com um bool (`True`, `False`)."
   ]
  },
  {
   "cell_type": "code",
   "execution_count": 38,
   "metadata": {},
   "outputs": [],
   "source": [
    "def q10():\n",
    "    ''' Informs whether a nan element in product_category 2 corresponds to a nan element in product category 3 \n",
    "    ARG: -- \n",
    "    \n",
    "    RETURNS: \n",
    "    is_equal(Bool): Bool variable informing whether a nan element in product_category 2 corresponds \n",
    "    to a nan element in product category 3\n",
    "    '''\n",
    "\n",
    "    # Bool variables inform whether products 2 and 3 have a nan variable\n",
    "    products_bool_df = df[['Product_Category_2','Product_Category_3']].isna()\n",
    "\n",
    "    # Filter rows where product_category_2 is nan (True)\n",
    "    product2_isna = products_bool_df.loc[products_bool_df['Product_Category_2'] == True, :]\n",
    "\n",
    "    # Compare the series of each product and informs whether they are equal or not \n",
    "    is_equal = product2_isna['Product_Category_2'].equals(product2_isna['Product_Category_3'])\n",
    "    \n",
    "    return is_equal\n",
    "    \n"
   ]
  }
 ],
 "metadata": {
  "kernelspec": {
   "display_name": "Python 3",
   "language": "python",
   "name": "python3"
  },
  "language_info": {
   "codemirror_mode": {
    "name": "ipython",
    "version": 3
   },
   "file_extension": ".py",
   "mimetype": "text/x-python",
   "name": "python",
   "nbconvert_exporter": "python",
   "pygments_lexer": "ipython3",
   "version": "3.7.3"
  }
 },
 "nbformat": 4,
 "nbformat_minor": 4
}
